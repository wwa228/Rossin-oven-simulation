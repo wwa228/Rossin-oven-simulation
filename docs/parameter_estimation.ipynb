{
 "cells": [
  {
   "cell_type": "code",
   "execution_count": null,
   "metadata": {},
   "outputs": [],
   "source": []
  },
  {
   "cell_type": "markdown",
   "metadata": {},
   "source": [
    "python -m oven.pe_sshooting_event.py --products R13NSR1 --optimize 1 --method \"sgd\" --iterations 2000 --msg \"optimizing again after incorporating recirculation to reobtain the results\" &"
   ]
  },
  {
   "cell_type": "code",
   "execution_count": null,
   "metadata": {},
   "outputs": [],
   "source": []
  }
 ],
 "metadata": {
  "language_info": {
   "name": "python"
  }
 },
 "nbformat": 4,
 "nbformat_minor": 2
}
